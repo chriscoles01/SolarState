{
 "cells": [
  {
   "cell_type": "code",
   "execution_count": 1,
   "metadata": {},
   "outputs": [],
   "source": [
    "import pandas as pd\n",
    "import geojson"
   ]
  },
  {
   "cell_type": "code",
   "execution_count": 2,
   "metadata": {},
   "outputs": [],
   "source": [
    "rooftop_dataset = pd.read_csv(\"../data/rooftop/area-azi-tilt-csv-7.csv\")"
   ]
  },
  {
   "cell_type": "code",
   "execution_count": 4,
   "metadata": {},
   "outputs": [],
   "source": [
    "zip_coords = pd.read_csv(\"../data/us-zip-code-latitude-and-longitude.csv\", sep=\";\")\n",
    "zip_coords = zip_coords[[\"Zip\", \"Latitude\", \"Longitude\"]]\n",
    "zip_coords = zip_coords.rename(columns={\"Zip\": \"zip\", \"Latitude\": \"lat\", \"Longitude\": \"long\"})"
   ]
  },
  {
   "cell_type": "code",
   "execution_count": 45,
   "metadata": {},
   "outputs": [],
   "source": [
    "def zip_from_coords(long, lat):\n",
    "    for precision in range(3, -1, -1):\n",
    "        selected = zip_coords[(round(zip_coords.long, precision) == round(long, precision)) &\n",
    "                              (round(zip_coords.lat, precision) == round(lat, precision))]\n",
    "        if selected.shape[0] > 0:\n",
    "            return int(selected.iloc[0].zip)\n",
    "\n",
    "    print(f\"WARNING: No zip found for long: {long} and lat: {lat} at precision {precision}\")\n",
    "    return None"
   ]
  },
  {
   "cell_type": "code",
   "execution_count": 50,
   "metadata": {},
   "outputs": [
    {
     "name": "stdout",
     "output_type": "stream",
     "text": [
      "At zipcode 98220 there is 3.22 solar\n",
      "\n",
      "At zipcode 98262 there is 3.03 solar\n",
      "\n",
      "At zipcode 98262 there is 3.03 solar\n",
      "\n",
      "At zipcode 98262 there is 3.03 solar\n",
      "\n",
      "At zipcode 98262 there is 3.03 solar\n",
      "\n",
      "At zipcode 98220 there is 3.3 solar\n",
      "\n",
      "At zipcode 98262 there is 3.12 solar\n",
      "\n",
      "At zipcode 98262 there is 3.12 solar\n",
      "\n",
      "At zipcode 98262 there is 3.12 solar\n",
      "\n",
      "At zipcode 98262 there is 3.12 solar\n",
      "\n",
      "At zipcode 98357 there is 2.76 solar\n",
      "\n"
     ]
    }
   ],
   "source": [
    "with open('../data/solardata.json') as f:\n",
    "    solar_data = geojson.load(f)\n",
    "    for i, d in enumerate(solar_data.features):\n",
    "#         print(d[\"properties\"])\n",
    "        x = d[\"properties\"][\"X_COORD\"]\n",
    "        y = d[\"properties\"][\"Y_COORD\"]\n",
    "        zipcode = zip_from_coords(long=x, lat=y)\n",
    "        solar = d[\"properties\"][\"ANNUAL\"]\n",
    "        print(f\"At zipcode {zipcode} there is {solar} solar\")\n",
    "        print()\n",
    "        if i == 10:\n",
    "            break"
   ]
  },
  {
   "cell_type": "code",
   "execution_count": null,
   "metadata": {},
   "outputs": [],
   "source": []
  }
 ],
 "metadata": {
  "kernelspec": {
   "display_name": "Python 3",
   "language": "python",
   "name": "python3"
  },
  "language_info": {
   "codemirror_mode": {
    "name": "ipython",
    "version": 3
   },
   "file_extension": ".py",
   "mimetype": "text/x-python",
   "name": "python",
   "nbconvert_exporter": "python",
   "pygments_lexer": "ipython3",
   "version": "3.6.9"
  }
 },
 "nbformat": 4,
 "nbformat_minor": 4
}
