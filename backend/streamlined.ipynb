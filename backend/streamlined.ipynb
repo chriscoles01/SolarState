{
 "cells": [
  {
   "cell_type": "code",
   "execution_count": 1,
   "metadata": {},
   "outputs": [],
   "source": [
    "%load_ext autoreload\n",
    "%autoreload 2"
   ]
  },
  {
   "cell_type": "code",
   "execution_count": 9,
   "metadata": {},
   "outputs": [],
   "source": [
    "import pandas as pd\n",
    "import geojson\n",
    "import numpy as np\n",
    "\n",
    "# Local imports\n",
    "import preproc\n",
    "import calc"
   ]
  },
  {
   "cell_type": "markdown",
   "metadata": {},
   "source": [
    "## Get the data!"
   ]
  },
  {
   "cell_type": "code",
   "execution_count": 3,
   "metadata": {},
   "outputs": [],
   "source": [
    "rooftops = preproc.get_rooftops(\"../data/rooftop/area-azi-tilt-csv-7.csv\")"
   ]
  },
  {
   "cell_type": "code",
   "execution_count": 4,
   "metadata": {},
   "outputs": [],
   "source": [
    "zip_from_coords = preproc.create_zip_from_coords_getter(\"../data/us-zip-code-latitude-and-longitude.csv\")"
   ]
  },
  {
   "cell_type": "markdown",
   "metadata": {},
   "source": [
    "## Main process"
   ]
  },
  {
   "cell_type": "code",
   "execution_count": 6,
   "metadata": {},
   "outputs": [],
   "source": [
    "# Read the solar data\n",
    "with open('../data/solardata.json') as f:\n",
    "    solar_data = geojson.load(f)"
   ]
  },
  {
   "cell_type": "code",
   "execution_count": 7,
   "metadata": {},
   "outputs": [],
   "source": [
    "months = [\"JANUARY\", \"FEBRUARY\", \"MARCH\", \"APRIL\", \"MAY\", \"JUNE\" , \"JULY\", \"AUGUST\", \"SEPTEMBER\", \"OCTOBER\", \"NOVEMBER\", \"DECEMBER\", \"ANNUAL\"]"
   ]
  },
  {
   "cell_type": "code",
   "execution_count": 10,
   "metadata": {},
   "outputs": [],
   "source": [
    "for data in solar_data.features:\n",
    "    props = data[\"properties\"]\n",
    "    x = props[\"X_COORD\"]\n",
    "    y = props[\"Y_COORD\"]\n",
    "    zipcode = zip_from_coords(long=x, lat=y)\n",
    "    props[\"zip\"] = zipcode\n",
    "\n",
    "    for m in months:\n",
    "        solar = props[m]\n",
    "        if zipcode in rooftops[\"zip\"]:\n",
    "            roofs_at_zip = rooftops.loc[rooftops[\"zip\"] == 1001].iloc[0]\n",
    "            abs_pot = calc.calc_for_solar(roofs_at_zip, solar)\n",
    "            if isinstance(abs_pot, np.ndarray):\n",
    "                abs_pot = abs_pot.mean()\n",
    "\n",
    "            norm_pot = calc.calc_for_solar(roofs_at_zip, solar, normalize=True)\n",
    "            if isinstance(norm_pot, np.ndarray):\n",
    "                norm_pot = norm_pot.mean()\n",
    "\n",
    "            props[f\"abs_pot_{m}\"] = abs_pot\n",
    "            props[f\"norm_pot_{m}\"] = norm_pot\n",
    "        else:\n",
    "            props[f\"abs_pot_{m}\"] = 0\n",
    "            props[f\"norm_pot_{m}\"] = 0"
   ]
  },
  {
   "cell_type": "code",
   "execution_count": 11,
   "metadata": {},
   "outputs": [],
   "source": [
    "# Dump the result\n",
    "with open(\"result.json\", \"w\") as f:\n",
    "    geojson.dump(solar_data, f)"
   ]
  },
  {
   "cell_type": "code",
   "execution_count": null,
   "metadata": {},
   "outputs": [],
   "source": []
  }
 ],
 "metadata": {
  "kernelspec": {
   "display_name": "Python 3",
   "language": "python",
   "name": "python3"
  },
  "language_info": {
   "codemirror_mode": {
    "name": "ipython",
    "version": 3
   },
   "file_extension": ".py",
   "mimetype": "text/x-python",
   "name": "python",
   "nbconvert_exporter": "python",
   "pygments_lexer": "ipython3",
   "version": "3.6.9"
  }
 },
 "nbformat": 4,
 "nbformat_minor": 4
}
